{
 "cells": [
  {
   "cell_type": "code",
   "execution_count": 23,
   "metadata": {},
   "outputs": [
    {
     "name": "stdout",
     "output_type": "stream",
     "text": [
      "3346\n"
     ]
    }
   ],
   "source": [
    "import os\n",
    "import pandas as pd\n",
    "import numpy as np\n",
    "import matplotlib.pyplot as plt\n",
    "os.environ['TF_CPP_MIN_LOG_LEVEL'] = '3' \n",
    "import tensorflow as tf\n",
    "\n",
    "dir = '/home/fhd/projects/.DATASETS/TBI/'\n",
    "path_data = os.path.join(dir, 'data.csv')\n",
    "path_AIS = os.path.join(dir, 'AIS.csv')\n",
    "\n",
    "data = pd.read_csv(path_data,index_col='ID')\n",
    "AIS = pd.read_csv(path_AIS)\n",
    "print(len(data))\n"
   ]
  },
  {
   "cell_type": "code",
   "execution_count": null,
   "metadata": {},
   "outputs": [],
   "source": [
    "#Defining nessary functions\n",
    "\n",
    "def dropna(df:pd.DataFrame, col:list) ->pd.DataFrame:\n",
    "    result = [True] * len(df)\n",
    "    for c in col:\n",
    "        result = list(map(lambda x,y: x and y, result, df[c].notna().values))\n",
    "    return df[result]\n"
   ]
  },
  {
   "cell_type": "code",
   "execution_count": null,
   "metadata": {},
   "outputs": [],
   "source": [
    "'''\n",
    "3346 (base) --> 3080 (GOSE) --> 3056 (Age) --> 3053 (Age) --> 3033(Hos LOS) --> 3020 (ICU LOS) --> 3008 (GCS) --> 3007 (GCSM0) --> 2145 (Marshall) --> 2083 (Rotterdam)\n",
    "2040 (mechanism) --> 1759 (PR on Adm)\n",
    "'''"
   ]
  },
  {
   "cell_type": "code",
   "execution_count": 95,
   "metadata": {},
   "outputs": [],
   "source": [
    "\n",
    "list_to_drop = ['age','gender','Hos LOS','ICU LOS','GOSE0','GCS', 'GCSM0','Marshall','Rotterdam','mechanism','PR on Adm']\n",
    "df = dropna(data, list_to_drop)"
   ]
  }
 ],
 "metadata": {
  "interpreter": {
   "hash": "e7370f93d1d0cde622a1f8e1c04877d8463912d04d973331ad4851f04de6915a"
  },
  "kernelspec": {
   "display_name": "Python 3.9.7 64-bit",
   "language": "python",
   "name": "python3"
  },
  "language_info": {
   "codemirror_mode": {
    "name": "ipython",
    "version": 3
   },
   "file_extension": ".py",
   "mimetype": "text/x-python",
   "name": "python",
   "nbconvert_exporter": "python",
   "pygments_lexer": "ipython3",
   "version": "3.9.7"
  },
  "orig_nbformat": 4
 },
 "nbformat": 4,
 "nbformat_minor": 2
}
